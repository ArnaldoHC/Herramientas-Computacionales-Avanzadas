{
 "cells": [
  {
   "cell_type": "markdown",
   "id": "c50d0edc-4959-4f34-b63c-6c540d6d66e5",
   "metadata": {},
   "source": [
    "# Análisis de Fourier\n",
    "## Función periódica \n",
    "Def. Una función periódica  con periodo  es una función que cumple  para todo.\n",
    "\n",
    "\n",
    "\n",
    "\n",
    "El término fundamental de este tipo de ecuaciones es de la forma\n",
    "$$f (t) = A_0 + C_1cos(\\omega_0t + \\theta)$$  ... (1)\n",
    "\n",
    "El valor promedio por encima del eje de las abscisas $A_0$.\n",
    "La amplitud de la oscialación $C_1$.\n",
    "La frecuencia angula  que esta relacionada con la frecuencia y el periodo de la forma $\\omega_0=2\\pi f=2\\pi\\frac{1}{T}$.\n",
    "La fase o el ángulo de desplazamiento $\\theta$ que desplaza toda la curva sobre la horizontal.\n",
    "\n",
    "La ecuación (1) también trae la información de una sinusoidal (ejercicio 1. Hint: usa el coseno de la suma de ángulos). De tal forma que podemos expresar esta ecuación de la forma \n",
    "$$f(t) = A_0 + A_1cos(\\omega_0 t ) + B_1sen(\\omega_0 t ) + e$$   ...   (2)\n",
    "que es posible linealizar con la forma $y = a_0z_0 + a_1z_1 + a_2z_2 + \\cdot  \\cdot  \\cdot  + a_mz_m + e$ en un espacio de $m$ dimensiones y sobre la cual es posible aplicar mínimos cuadrados para ajustar una recta; donde $z_0=1$, $z_1=cos(\\omega_0t)$, $z_2=sen(\\omega_0t)$ y todas las demas $z_3=...=z_m=0$.\n",
    "Los coeficientes son:\n",
    "$A_0=\\frac{\\sum_i f(t_i)}{N}$\n",
    "$A_1=\\frac{2}{N}\\sum_i f(t_i)cos(\\omega_0t_i)$\n",
    "$B_1=\\frac{2}{N}\\sum_i f(t_i)sen(\\omega_0t_i)$\n",
    "como esta función es peródica, entonces es posible tomar solamente $N$ puntos en el intervalo $\\Delta t$ tal que el periodo de la función $T=(N-1)\\Delta t$. Es decir, es suficiente estos $N-1$ puntos para poder describir la función por completo.\n",
    "Ejemplo\n",
    "Para la tabla de datos presentada, obtener los coeficientes de Fourier considerando que representan solo un periodo de la función."
   ]
  }
 ],
 "metadata": {
  "kernelspec": {
   "display_name": "Python 3 (ipykernel)",
   "language": "python",
   "name": "python3"
  },
  "language_info": {
   "codemirror_mode": {
    "name": "ipython",
    "version": 3
   },
   "file_extension": ".py",
   "mimetype": "text/x-python",
   "name": "python",
   "nbconvert_exporter": "python",
   "pygments_lexer": "ipython3",
   "version": "3.11.6"
  }
 },
 "nbformat": 4,
 "nbformat_minor": 5
}
