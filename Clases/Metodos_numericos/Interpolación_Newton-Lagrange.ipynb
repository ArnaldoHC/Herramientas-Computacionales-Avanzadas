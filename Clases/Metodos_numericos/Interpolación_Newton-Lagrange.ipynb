{
 "cells": [
  {
   "cell_type": "markdown",
   "id": "5470d26a-5c11-4ce9-a663-7fefa7803af8",
   "metadata": {},
   "source": [
    "# Ejemplo\n",
    "## Estimar el valor de $ln(2)$ usando la interpolación de Newton\n",
    "Recordando los términos de los coeficientes del polinómio de Newton hasta el grado 3:\n",
    "\n",
    "<center>\n",
    "  <img src=\"https://github.com/ArnaldoHC/Herramientas-Computacionales-Avanzadas/blob/a8c0fd11b6d6174806bebf4f9b6c56bb694064b7/Clases/Imagenes/Interpol-Newton.png?raw=true\" width=\"500\">\n",
    "</center>\n",
    "\n",
    "donde la primera diferencia finita $f[x_i,x_j]=\\frac{f(x_i)-f(x_j)}{x_i-x_j}$, la segunda diferencia finida $f[x_i,x_j,x_k]=\\frac{f[x_i,x_j]-f[x_j,x_k]}{x_i-x_k}$\n",
    "Aproximamos el valor de $ln(2)$ usando iterpolación de Newton a partir de conocer los valores de $ln(1)$ y $ln(6)$."
   ]
  },
  {
   "cell_type": "code",
   "execution_count": 13,
   "id": "8999bb33-18fc-4dc4-94e8-0a154fa17c57",
   "metadata": {},
   "outputs": [
    {
     "name": "stdout",
     "output_type": "stream",
     "text": [
      "La aproximación de ln(2) usando interpolación de Newton es: 2.150111363073666\n"
     ]
    }
   ],
   "source": [
    "import numpy as np\n",
    "\n",
    "def newton_interpolation(x, y, x_approx):\n",
    "    n = len(x)\n",
    "    div_diff = np.zeros((n, n))\n",
    "    div_diff[:, 0] = y\n",
    "\n",
    "    for j in range(1, n):\n",
    "        for i in range(j, n):\n",
    "            div_diff[i, j] = (div_diff[i, j-1] - div_diff[i-1, j-1]) / (x[i] - x[i-j])\n",
    "\n",
    "    coeff = div_diff[n-1, :]\n",
    "\n",
    "    P = coeff[n-1]\n",
    "    for k in range(n-2, -1, -1):\n",
    "        P = P * (x_approx - x[k]) + coeff[k]\n",
    "\n",
    "    return P\n",
    "\n",
    "# Valores conocidos\n",
    "x = [1, 6]\n",
    "y = np.log(x)\n",
    "\n",
    "# Evaluar el polinomio en x = 2\n",
    "x_approx = 2\n",
    "P = newton_interpolation(x, y, x_approx)\n",
    "\n",
    "print(f'La aproximación de ln(2) usando interpolación de Newton es: {P:.15f}')"
   ]
  },
  {
   "cell_type": "markdown",
   "id": "899b9200-767c-404e-a938-77a016f7e9e8",
   "metadata": {},
   "source": [
    "### Ahora usando dos tres puntos"
   ]
  },
  {
   "cell_type": "code",
   "execution_count": 14,
   "id": "507d35ec-758e-47f8-93b6-a377650c2e9b",
   "metadata": {},
   "outputs": [
    {
     "name": "stdout",
     "output_type": "stream",
     "text": [
      "Aproximación de ln(2) usando interpolación de Newton: 0.565844346900983\n"
     ]
    }
   ],
   "source": [
    "import numpy as np\n",
    "\n",
    "def newton_interpolation(x, y, x_target):\n",
    "    n = len(x)\n",
    "    divided_diff_table = np.zeros((n, n))\n",
    "    divided_diff_table[:, 0] = y\n",
    "\n",
    "    for j in range(1, n):\n",
    "        for i in range(n - j):\n",
    "            divided_diff_table[i, j] = (divided_diff_table[i + 1, j - 1] - divided_diff_table[i, j - 1]) / (x[i + j] - x[i])\n",
    "\n",
    "    coefficients = divided_diff_table[0, :]\n",
    "\n",
    "    approx_ln2 = coefficients[0]\n",
    "    product_term = 1\n",
    "\n",
    "    for i in range(1, n):\n",
    "        product_term *= (x_target - x[i - 1])\n",
    "        approx_ln2 += coefficients[i] * product_term\n",
    "\n",
    "    return approx_ln2\n",
    "\n",
    "# Definir los puntos conocidos\n",
    "x = [1, 4, 6]\n",
    "y = np.log(x)\n",
    "\n",
    "# Aproximar ln(2) usando el polinomio de interpolación de Newton\n",
    "x_target = 2\n",
    "approx_ln2 = newton_interpolation(x, y, x_target)\n",
    "\n",
    "# Mostrar el resultado\n",
    "print(f'Aproximación de ln(2) usando interpolación de Newton: {approx_ln2:.15f}')"
   ]
  },
  {
   "cell_type": "markdown",
   "id": "543afaa6-101e-4c04-8cfd-bac79a2ad3e9",
   "metadata": {},
   "source": [
    "## Con Lagrange"
   ]
  },
  {
   "cell_type": "code",
   "execution_count": 15,
   "id": "b69db72c-18bf-4838-a71d-ecfdab493d9f",
   "metadata": {},
   "outputs": [
    {
     "name": "stdout",
     "output_type": "stream",
     "text": [
      "El valor estimado de ln(2) usando interpolación de Lagrange es: 0.5658443469\n"
     ]
    }
   ],
   "source": [
    "import numpy as np\n",
    "\n",
    "def lagrange_interpolation(x, y, x_est):\n",
    "    n = len(x)\n",
    "    ln2_est = 0\n",
    "\n",
    "    for i in range(n):\n",
    "        L_i = 1\n",
    "        for j in range(n):\n",
    "            if j != i:\n",
    "                L_i *= (x_est - x[j]) / (x[i] - x[j])\n",
    "        ln2_est += y[i] * L_i\n",
    "\n",
    "    return ln2_est\n",
    "\n",
    "# Definir los puntos de datos (x, y)\n",
    "x = [1, 4, 6]\n",
    "y = np.log(x)\n",
    "\n",
    "# Punto en el que se desea estimar ln(2)\n",
    "x_est = 2\n",
    "\n",
    "# Calcular el polinomio de Lagrange\n",
    "ln2_est = lagrange_interpolation(x, y, x_est)\n",
    "\n",
    "# Mostrar el resultado\n",
    "print(f'El valor estimado de ln(2) usando interpolación de Lagrange es: {ln2_est:.10f}')"
   ]
  },
  {
   "cell_type": "code",
   "execution_count": 16,
   "id": "b4338bce-381b-4945-a6e1-81d2d5cf4b7e",
   "metadata": {},
   "outputs": [
    {
     "name": "stdout",
     "output_type": "stream",
     "text": [
      "El valor verdadero de ln(2) es: 0.6931471806\n"
     ]
    }
   ],
   "source": [
    "print(f'El valor verdadero de ln(2) es: {np.log(2):.10f}')"
   ]
  },
  {
   "cell_type": "code",
   "execution_count": 17,
   "id": "12df152b-1104-4376-8ee9-ee26be0012ad",
   "metadata": {},
   "outputs": [
    {
     "name": "stdout",
     "output_type": "stream",
     "text": [
      "El error relativo es: 18.3659166811%\n"
     ]
    }
   ],
   "source": [
    "print(f'El error relativo es: {abs((ln2_est - np.log(2)) / np.log(2)) * 100:.10f}%')"
   ]
  }
 ],
 "metadata": {
  "kernelspec": {
   "display_name": "Python 3 (ipykernel)",
   "language": "python",
   "name": "python3"
  },
  "language_info": {
   "codemirror_mode": {
    "name": "ipython",
    "version": 3
   },
   "file_extension": ".py",
   "mimetype": "text/x-python",
   "name": "python",
   "nbconvert_exporter": "python",
   "pygments_lexer": "ipython3",
   "version": "3.11.6"
  }
 },
 "nbformat": 4,
 "nbformat_minor": 5
}
