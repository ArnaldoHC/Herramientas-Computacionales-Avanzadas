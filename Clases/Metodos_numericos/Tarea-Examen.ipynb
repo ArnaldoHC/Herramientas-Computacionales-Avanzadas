{
 "cells": [
  {
   "attachments": {},
   "cell_type": "markdown",
   "id": "e91e7fee-ceb7-4742-bf6b-01c5331eacf0",
   "metadata": {},
   "source": [
    "# Tarea - Examen 3\n",
    "\n",
    "## Ejercicio 1\n",
    "La ley de Stefan-Boltzmann se utiliza para estimar la tasa de  radiación de energía $H$ desde una superficie, esto es, $H = Ae\\sigma T^4$ donde $H$ está en $watts$, $A$ el área de la superficie $(m^2)$ $e$ la emisividad que caracteriza la propiedad de emisión de la superficie (adimensional), $\\sigma = 5.67 \\times 10^{–8} W m^{–2} K^{–4}$ constante de Stefan-Boltzmann y $T$ la temperatura absoluta $(K)$.   a) (1/4 punto) Determina el error de $H$ para una esfera sólida de cobre de radio $r=0.15\\pm 0.01\\, m$, $e = 0.90\\pm 0.05$ y $T = 650 \\pm 20\\,K$. b) (1/4 punto) Compara los resultados con el error exacto. c) (1/4 punto) Repite los cálculos pero con $T = 650\\pm 40\\,K$. d) (1/4 punto) Interpreta los resultados obtendidos en b) y discute los resultados que obtuviste en a) y en c)."
   ]
  },
  {
   "cell_type": "code",
   "execution_count": null,
   "id": "feefb69d-99e3-46f4-9879-d34156c75302",
   "metadata": {},
   "outputs": [],
   "source": [
    "# Usa el código de los archivos \"Ejemplo_error_total.mlx\" y \"Ejemplo55Blanchard.mlx\""
   ]
  },
  {
   "cell_type": "markdown",
   "id": "9efa56d4-a3b8-4057-b52d-be9809e6bf11",
   "metadata": {},
   "source": [
    "## Ejercicio 2\n",
    "Utiliza aproximaciones en diferencias de $O(h)$ hacia atrás (1/6 punto) y hacia adelante (1/6 punto) y una aproximación de diferencia central de $O(h^2)$ (1/6 punto) para estimar la primera derivada del folio de Descartes cuya función es $x^3 +y^3=6xy$. Evalúa la derivada en el punto  usando un tamaño del incremento $h = 0.2$. Compara los resultados con el valor exacto de las derivadas. Obtén el error porcentual considerando el término residual de la expansión en la serie de Taylor para cada uno de los casos (1/2 punto)."
   ]
  },
  {
   "cell_type": "code",
   "execution_count": null,
   "id": "f65d395d-5444-49d5-9c92-2f879c8fd472",
   "metadata": {},
   "outputs": [],
   "source": [
    "# Usa el código de los archivos \"Ejemplo_error_total.mlx\" y \"Ejemplo55Blanchard.mlx\""
   ]
  },
  {
   "cell_type": "markdown",
   "id": "9b5e2639-5e3d-44b0-ba02-0d5762212b20",
   "metadata": {},
   "source": [
    "## Ejercicio 3\n",
    "La presión que ejerce el agua sobre la cortina de una presa como enla figura a) bajo la función $p(z)=\\rho g(D-z)$ donde:\n",
    "$p(z)$ es la presión (en pascales) ejercida a una elevación de  metros por encima del fondo del embalse; $\\rho$ es la densidad del agua, con un valor de $10^3\\,kg/m^3$; $g$ aceleración de la gravedad $(9.81\\,m/s^2)$; $D$ la elevación (en metros) de la superficie del agua por encima del fondo del embalse.\n",
    "\n",
    "<center>\n",
    "<img src=\"https://raw.githubusercontent.com/ArnaldoHC/Herramientas-Computacionales-Avanzadas/3c17b921adc6042c9580434a3a86f3703d426ce3/Clases/F1-TE3.png\" width=\"550\">\n",
    "</center>\n",
    "\n",
    "Omitiendo la presión atmosférica, la fuerza total puede determinarse multiplicando la presión por el área de la cara de la presa (figura b) vista frontal de la cortina). Debido a que tanto la presión como el área varían con la elevación, la fuerza total se obtiene evaluando la integral:\n",
    "$$f_t=\\int_0^D\\rho g w(z)(D-z)dz$$\n",
    "donde  es el ancho de la cara de la presa (en metros) a la elevación . La línea de acción también puede obtenerse evaluando:\n",
    "$$d=\\frac{\\int_0^D\\rho gzw(z)(D-z)dz}{\\int_0^D\\rho gw(z)(D-z)dz}$$\n",
    "Usa la regla de Simpson para calcular $f_t$ y $d$."
   ]
  },
  {
   "cell_type": "code",
   "execution_count": null,
   "id": "0398154b-a400-45f7-9900-60fc55ca5ac7",
   "metadata": {
    "editable": true,
    "slideshow": {
     "slide_type": ""
    },
    "tags": []
   },
   "outputs": [],
   "source": [
    "# Usa el código de los archívos \"Interpolación.mlx\" e \"Integración_numerica.mlx\""
   ]
  }
 ],
 "metadata": {
  "kernelspec": {
   "display_name": "Python 3 (ipykernel)",
   "language": "python",
   "name": "python3"
  },
  "language_info": {
   "codemirror_mode": {
    "name": "ipython",
    "version": 3
   },
   "file_extension": ".py",
   "mimetype": "text/x-python",
   "name": "python",
   "nbconvert_exporter": "python",
   "pygments_lexer": "ipython3",
   "version": "3.11.6"
  }
 },
 "nbformat": 4,
 "nbformat_minor": 5
}
