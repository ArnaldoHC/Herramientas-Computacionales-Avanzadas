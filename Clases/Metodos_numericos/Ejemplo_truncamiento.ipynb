{
 "cells": [
  {
   "cell_type": "markdown",
   "id": "cb1db021-00b5-49ab-b691-f56b6433ac0f",
   "metadata": {},
   "source": [
    "# Ejemplo\n",
    "El incremento en el orden del residuo mejora la aproximación ademas de que se puede calcular el error exacto en algunas funciones. Este es el caso de la función $f(x)=x^m$ en donde el residuo de orden $m-esimo$ calcula el error exacto para icha función. \n",
    "Vemos el ejemplo para $m=1,2,3,4$ calculando el residuo de orden 4. "
   ]
  },
  {
   "cell_type": "code",
   "execution_count": 1,
   "id": "73b0a844-fde1-486b-9119-345cf17bdff9",
   "metadata": {
    "scrolled": true
   },
   "outputs": [
    {
     "name": "stdout",
     "output_type": "stream",
     "text": [
      "Tabla 1: para exponentes m en la función x^m, los valores aproximados con la serie de Taylor de la función a primer orden con sus residuos hasta orden cuatro\n",
      "   m  Aprox.  RnO(1)  RnO(2)  RnO(3)  f(x)\n",
      "0  1     2.0     0.0     0.0     0.0   2.0\n",
      "1  2     3.0     1.0     0.0     0.0   4.0\n",
      "2  3     4.0     3.0     1.0     0.0   8.0\n",
      "3  4     5.0     6.0     4.0     1.0  16.0\n"
     ]
    }
   ],
   "source": [
    "import numpy as np\n",
    "import pandas as pd\n",
    "from math import factorial\n",
    "\n",
    "# Definir los valores de m\n",
    "m_val = [1, 2, 3, 4]\n",
    "\n",
    "# Definir el valor de x\n",
    "x_0 = 1  # puntos sobre el que queremos realizar la expansión\n",
    "x = 2    # punto máximo al que queremos que se ajuste la expansión\n",
    "\n",
    "# Inicializar las variables para la tabla\n",
    "taylor_approx_val = np.zeros(len(m_val))\n",
    "residuo_val = np.zeros(len(m_val))\n",
    "f_real_val = np.zeros(len(m_val))\n",
    "RO1 = np.zeros(len(m_val))\n",
    "RO2 = np.zeros(len(m_val))\n",
    "RO3 = np.zeros(len(m_val))\n",
    "\n",
    "# Calcular f(x), la aproximación de Taylor y el residuo para cada m\n",
    "for i, m in enumerate(m_val):\n",
    "    f_real = x**m  # valor exacto\n",
    "    f_x_0 = x_0**m  # valor conocido de f en x_0\n",
    "\n",
    "    df = m * x_0**(m-1)  # primera derivada\n",
    "    ddf = m * (m-1) * x_0**(m-2)  # segunda derivada\n",
    "    dddf = m * (m-1) * (m-2) * x_0**(m-3)  # tercera derivada\n",
    "    ddddf = m * (m-1) * (m-2) * (m-3) * x_0**(m-4)  # cuarta derivada\n",
    "\n",
    "    # Aproximación de Taylor de primer orden: f(x) ≈ f(a) + f'(a)*(x-a)\n",
    "    taylor_approx = f_x_0 + df * (x - x_0)\n",
    "\n",
    "    # Residuo de primer segundo orden\n",
    "    residuo = (ddf * (x - x_0)**2 / factorial(2) +\n",
    "               dddf * (x - x_0)**3 / factorial(3) +\n",
    "               ddddf * (x - x_0)**4 / factorial(4))\n",
    "\n",
    "    # Redondear los valores a enteros\n",
    "    taylor_approx_val[i] = round(taylor_approx)\n",
    "    RO1[i] = round(ddf * (x - x_0)**2 / factorial(2))\n",
    "    RO2[i] = round(dddf * (x - x_0)**3 / factorial(3))\n",
    "    RO3[i] = round(ddddf * (x - x_0)**4 / factorial(4))\n",
    "    residuo_val[i] = round(residuo)\n",
    "    f_real_val[i] = round(f_real)\n",
    "\n",
    "# Crear la tabla\n",
    "tabla = pd.DataFrame({\n",
    "    'm': m_val,\n",
    "    'Aprox.': taylor_approx_val,\n",
    "    'RnO(1)': RO1,\n",
    "    'RnO(2)': RO2,\n",
    "    'RnO(3)': RO3,\n",
    "    'f(x)': f_real_val\n",
    "})\n",
    "\n",
    "# Mostrar la tabla\n",
    "print('Tabla 1: para exponentes m en la función x^m, los valores aproximados '\n",
    "      'con la serie de Taylor de la función a primer orden con sus residuos hasta '\n",
    "      'orden cuatro')\n",
    "print(tabla)"
   ]
  },
  {
   "cell_type": "code",
   "execution_count": null,
   "id": "0ae7ebf1-57ee-4ed8-b316-b560a434481f",
   "metadata": {},
   "outputs": [],
   "source": []
  }
 ],
 "metadata": {
  "kernelspec": {
   "display_name": "Python 3 (ipykernel)",
   "language": "python",
   "name": "python3"
  },
  "language_info": {
   "codemirror_mode": {
    "name": "ipython",
    "version": 3
   },
   "file_extension": ".py",
   "mimetype": "text/x-python",
   "name": "python",
   "nbconvert_exporter": "python",
   "pygments_lexer": "ipython3",
   "version": "3.11.6"
  }
 },
 "nbformat": 4,
 "nbformat_minor": 5
}
