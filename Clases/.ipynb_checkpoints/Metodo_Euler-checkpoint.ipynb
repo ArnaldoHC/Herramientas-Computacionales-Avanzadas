{
 "cells": [
  {
   "cell_type": "markdown",
   "id": "939ac217-10bb-430d-90cc-c6efc1372762",
   "metadata": {},
   "source": [
    "# Método de Euler"
   ]
  },
  {
   "cell_type": "markdown",
   "id": "856e3c39-8482-4212-bf0f-b9524d105e46",
   "metadata": {},
   "source": [
    "#### Método numerico para ecuaciones de la forma $\\frac{dy}{dx}=f(x,y)$ con condición inicial $y(x_0)=y_0$\n",
    "Dada la condición inicial $y(x_0)=y_0$ y el tamaño de paso $\\Delta x$, calculamos el punto $(𝑥_{𝑛+1},𝑦_{𝑛+1})$ a partir del punto precedente $(𝑥_𝑛,𝑦_𝑛)$ con los siguientes pasos:\n",
    "\n",
    "1. Usamos la ecuación diferencial para determinar la pendiente $𝑓(𝑥_𝑛,𝑦_𝑛)$\n",
    "2. Calculamos el siguiente punto $(𝑥_{𝑛+1},𝑦_{𝑛+1})$ mediante las fórmulas:\n",
    "$$𝑥_{𝑛+1}=𝑥_𝑛+\\Delta 𝑥$$\n",
    "$$𝑦_{𝑛+1}=𝑦_𝑛+𝑓(𝑥_𝑛,𝑦_𝑛)\\Delta 𝑥$$\n",
    "$$𝑛=0,1,2,…$$\n",
    "\n",
    "#### Modelo de caida libre\n",
    "Un objeto en caida libre se ve afectado escencialmente por dos fuerzas, la gravitacional $F_g=mg$ que provoca la caida del cuerpo, donde $m$ es la masa del cuerpo y $g$ es la acelaración de la gravedad en el punto de caida. La caida tambien se ve afecta por la fuerza de fricción $F_f=-cv$ que \"frena\" al cuerpo durante esta caida, donde $c$ es el coeficiente de arraste entendido como un factor de fricción y $v$ la velocidad de caida para el tiempo $t$. Debido a que el cuerpo se mueve podemos escribir la ecuación de movimiento como $ma=F_g+F_f$. Esta ecuación puede escirbirse como $m\\frac{dv}{dt}=mg-cv$ rescrita como $\\frac{dv}{dt}=g-\\frac{c}{m}v$.\n",
    "\n",
    "Para calcular una aproximación para todo punto $t$ de este modelo de caida libre a partir del método de Euler identificamos que la función $f(t,v)=f(v)=g-\\frac{c}{m}v$. Por lo tanto esta ecuación diferencial cumple ser con una ecuación diferencial autonoma. "
   ]
  },
  {
   "cell_type": "code",
   "execution_count": null,
   "id": "10c090eb-0fb2-4321-9e8c-fc5bdb0b8ef2",
   "metadata": {},
   "outputs": [],
   "source": [
    "import numpy as np\n",
    "import matplotlib.pyplot as plt\n",
    "\n",
    "# Parámetros\n",
    "dt = .5   # Tamaño del paso\n",
    "dte=0.1\n",
    "t_max = 10  # Tiempo total\n",
    "\n",
    "# Condición inicial\n",
    "y0 = 10\n",
    "\n",
    "# Discretización del tiempo\n",
    "t = np.arange(0, t_max, dt)\n",
    "t_ex = np.arange(0, t_max, dte)\n",
    "N = len(t)\n",
    "\n",
    "# Inicialización del array de soluciones\n",
    "y = np.zeros(N)\n",
    "y[0] = y0  # Valor inicial\n",
    "\n",
    "# Aplicación del método de Euler\n",
    "for i in range(1, N):\n",
    "    y[i] = y[i-1] + dt * (-y[i-1])  # y' = -y\n",
    "    # print(y[i])\n",
    "# Solución exacta para comparar\n",
    "y_exacta = y0 * np.exp(-t_ex)\n",
    "\n",
    "# Graficar resultado\n",
    "plt.plot(t, y, label=\"Método de Euler\", marker=\"o\")\n",
    "plt.plot(t_ex, y_exacta, label=\"Solución exacta\", linestyle=\"--\")\n",
    "plt.xlabel(\"Tiempo\")\n",
    "plt.ylabel(\"y\")\n",
    "plt.title(\"Método de Euler vs. Solución Exacta\")\n",
    "plt.legend()\n",
    "plt.show()"
   ]
  },
  {
   "cell_type": "code",
   "execution_count": null,
   "id": "80ad3251-6b57-4f5a-9d2f-183ade02b5fb",
   "metadata": {},
   "outputs": [],
   "source": []
  }
 ],
 "metadata": {
  "kernelspec": {
   "display_name": "Python 3 (ipykernel)",
   "language": "python",
   "name": "python3"
  },
  "language_info": {
   "codemirror_mode": {
    "name": "ipython",
    "version": 3
   },
   "file_extension": ".py",
   "mimetype": "text/x-python",
   "name": "python",
   "nbconvert_exporter": "python",
   "pygments_lexer": "ipython3",
   "version": "3.11.6"
  }
 },
 "nbformat": 4,
 "nbformat_minor": 5
}
