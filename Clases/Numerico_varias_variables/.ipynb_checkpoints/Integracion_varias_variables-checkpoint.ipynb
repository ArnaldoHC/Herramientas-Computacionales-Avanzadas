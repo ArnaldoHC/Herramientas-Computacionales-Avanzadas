{
 "cells": [
  {
   "cell_type": "markdown",
   "id": "533550f5-dddf-4101-8f1e-1a9aff48ce44",
   "metadata": {},
   "source": [
    "# Derivada direccional\n",
    "La derivada direccional de una función $f(x,y,z)$ en la dirección de un vector unitario $u = (u_1, u_2, u_3)$ se define como:\n",
    "\n",
    "$$D_uf = \\nabla f \\cdot u = \\frac{\\partial f}{\\partial x}u_1 + \\frac{\\partial f}{\\partial y}u_2 + \\frac{\\partial f}{\\partial z}u_3$$\n",
    "\n",
    "Donde $\\nabla f$ es el gradiente de $f$."
   ]
  },
  {
   "cell_type": "code",
   "execution_count": 21,
   "id": "6ba29be0-9774-4212-8aec-93442054481c",
   "metadata": {},
   "outputs": [],
   "source": [
    "import numpy as np\n",
    "from numpy import sqrt, arctan2  # Importamos funciones necesarias\n",
    "\n",
    "def derivada_direccional(f, punto, direccion, h=1e-5):\n",
    "    \"\"\"\n",
    "    Calcula la derivada direccional de f en 'punto' en la dirección 'direccion'\n",
    "    \n",
    "    Parámetros:\n",
    "    -----------\n",
    "    f: función vectorial f(x,y,z)\n",
    "    punto: tuple (x0,y0,z0) donde se evalúa\n",
    "    direccion: vector dirección (no necesita ser unitario)\n",
    "    h: tamaño del paso para diferencias finitas\n",
    "    \n",
    "    Retorna:\n",
    "    --------\n",
    "    Valor de la derivada direccional en ese punto\n",
    "    \"\"\"\n",
    "    # Normalizar vector dirección\n",
    "    u = np.array(direccion, dtype=float)  # Convertimos a array numpy\n",
    "    u_norm = np.linalg.norm(u)  # Calculamos la norma del vector\n",
    "    if u_norm == 0:\n",
    "        raise ValueError(\"El vector dirección no puede ser cero\")\n",
    "    u = u / u_norm  # Vector unitario\n",
    "    \n",
    "    # Calcular gradiente por diferencias finitas centradas\n",
    "    x0, y0, z0 = punto\n",
    "    grad = np.zeros(3)  # Inicializamos el vector gradiente\n",
    "    \n",
    "    # Derivada parcial respecto a x (diferencias centradas)\n",
    "    fx_plus = f(x0 + h, y0, z0)\n",
    "    fx_minus = f(x0 - h, y0, z0)\n",
    "    grad[0] = (fx_plus - fx_minus) / (2*h)\n",
    "    \n",
    "    # Derivada parcial respecto a y\n",
    "    fy_plus = f(x0, y0 + h, z0)\n",
    "    fy_minus = f(x0, y0 - h, z0)\n",
    "    grad[1] = (fy_plus - fy_minus) / (2*h)\n",
    "    \n",
    "    # Derivada parcial respecto a z\n",
    "    fz_plus = f(x0, y0, z0 + h)\n",
    "    fz_minus = f(x0, y0, z0 - h)\n",
    "    grad[2] = (fz_plus - fz_minus) / (2*h)\n",
    "    \n",
    "    # Producto punto del gradiente con la dirección unitaria\n",
    "    return np.dot(grad, u)"
   ]
  },
  {
   "cell_type": "markdown",
   "id": "264fa714-9f1a-41cf-832a-3ff19068851d",
   "metadata": {},
   "source": [
    "## Ejemplo.\n",
    "Calcular la tasa de cambio de la temperatura en un punto del manto terrestre en dirección a un punto de posible pluma mantélica."
   ]
  },
  {
   "cell_type": "code",
   "execution_count": 22,
   "id": "ea47e438-969e-4c77-b068-f049f073df71",
   "metadata": {},
   "outputs": [
    {
     "name": "stdout",
     "output_type": "stream",
     "text": [
      "Derivada direccional de la temperatura: 15.79 °C/km\n"
     ]
    }
   ],
   "source": [
    "def temperatura_manto(x, y, z):\n",
    "    \"\"\"\n",
    "    Modelo simplificado de temperatura en el manto terrestre\n",
    "    x, y: coordenadas horizontales en km\n",
    "    z: profundidad en km (negativo hacia el centro)\n",
    "    \"\"\"\n",
    "    return 20 - 0.5*z + 0.01*z**2 + 0.1*x*y\n",
    "\n",
    "# Punto de interés: 100km Este, 100km Norte, 500km de profundidad\n",
    "punto = (100, 100, -500)\n",
    "\n",
    "# Dirección hacia posible pluma mantélica (vector no normalizado)\n",
    "direccion = (30, 40, -10)\n",
    "\n",
    "# Calculamos y mostramos resultado\n",
    "dd = derivada_direccional(temperatura_manto, punto, direccion)\n",
    "print(f\"Derivada direccional de la temperatura: {dd:.2f} °C/km\")"
   ]
  },
  {
   "cell_type": "markdown",
   "id": "1f16034e-ef4e-4190-9cd4-ff62021d2e34",
   "metadata": {},
   "source": [
    "## Ejemplo\n",
    "Calcular la tasa de cambio de la densidad de plasma en la magnetosfera terrestre en dirección al viento solar."
   ]
  },
  {
   "cell_type": "code",
   "execution_count": 23,
   "id": "3946bc81-7642-47ef-8d92-d22462189631",
   "metadata": {},
   "outputs": [
    {
     "name": "stdout",
     "output_type": "stream",
     "text": [
      "Derivada direccional de la densidad de plasma: -6.79e+04 partículas/cm³ por radio terrestre\n"
     ]
    }
   ],
   "source": [
    "def densidad_plasma(x, y, z):\n",
    "    \"\"\"\n",
    "    Modelo simplificado de densidad de plasma en la magnetosfera\n",
    "    x: dirección Sol-Tierra (en radios terrestres)\n",
    "    y, z: coordenadas transversales\n",
    "    \"\"\"\n",
    "    r = sqrt(x**2 + y**2 + z**2)  # Distancia al centro de la Tierra\n",
    "    theta = arctan2(sqrt(y**2 + z**2), x)  # Ángulo desde el eje Sol-Tierra\n",
    "    return 1e6 * np.exp(-r/7) * (2 + np.sin(theta))\n",
    "\n",
    "# Punto de interés: 10 radios terrestres en dirección solar\n",
    "punto = (10, 0, 0)\n",
    "\n",
    "# Dirección del viento solar (ligeramente desviado)\n",
    "direccion = (0.9, 0.1, -0.05)\n",
    "\n",
    "# Calculamos y mostramos resultado\n",
    "dd_plasma = derivada_direccional(densidad_plasma, punto, direccion)\n",
    "print(f\"Derivada direccional de la densidad de plasma: {dd_plasma:.2e} partículas/cm³ por radio terrestre\")"
   ]
  },
  {
   "cell_type": "markdown",
   "id": "730e9e35-97b5-4cc1-b70f-1299a5c0a018",
   "metadata": {},
   "source": [
    "# Integración en Varias Variables\n",
    "\n",
    "Para funciones de varias variables, la integración se puede realizar mediante:\n",
    "\n",
    "Integrales dobles: $\\int\\int f(x,y) dx dy$\n",
    "\n",
    "Integrales triples: $\\int \\int \\int f(x,y,z) dx dy dz$\n",
    "\n",
    "Integrales sobre regiones no rectangulares"
   ]
  },
  {
   "cell_type": "code",
   "execution_count": 24,
   "id": "d70d08f6-5edc-4247-ad13-f5131c7eaa6b",
   "metadata": {},
   "outputs": [],
   "source": [
    "def simpson_3d(f, a, b, c, d, e, f_limits, n=100):\n",
    "    \"\"\"\n",
    "    Integración triple usando la regla de Simpson compuesta\n",
    "    \n",
    "    Parámetros:\n",
    "    -----------\n",
    "    f: función a integrar f(x,y,z)\n",
    "    a, b: límites en x\n",
    "    c, d: límites en y (pueden ser funciones de x)\n",
    "    e, f_limits: límites en z (pueden ser funciones de x,y)\n",
    "    n: número de intervalos (debe ser par)\n",
    "    \n",
    "    Retorna:\n",
    "    --------\n",
    "    Valor aproximado de la integral triple\n",
    "    \"\"\"\n",
    "    if n % 2 != 0:\n",
    "        n += 1  # Aseguramos que n sea par\n",
    "    \n",
    "    hx = (b - a) / n\n",
    "    integral = 0.0\n",
    "    \n",
    "    for i in range(n + 1):\n",
    "        x = a + i * hx\n",
    "        # Peso de Simpson para x\n",
    "        wx = (hx / 3) * (1 if i == 0 or i == n else 4 if i % 2 == 1 else 2)\n",
    "        \n",
    "        # Calcular límites en y para este x\n",
    "        y_min = c(x) if callable(c) else c\n",
    "        y_max = d(x) if callable(d) else d\n",
    "        hy = (y_max - y_min) / n\n",
    "        \n",
    "        for j in range(n + 1):\n",
    "            y = y_min + j * hy\n",
    "            # Peso de Simpson para y\n",
    "            wy = (hy / 3) * (1 if j == 0 or j == n else 4 if j % 2 == 1 else 2)\n",
    "            \n",
    "            # Calcular límites en z para este x,y\n",
    "            z_min = e(x,y) if callable(e) else e\n",
    "            z_max = f_limits(x,y) if callable(f_limits) else f_limits\n",
    "            hz = (z_max - z_min) / n\n",
    "            \n",
    "            for k in range(n + 1):\n",
    "                z = z_min + k * hz\n",
    "                # Peso de Simpson para z\n",
    "                wz = (hz / 3) * (1 if k == 0 or k == n else 4 if k % 2 == 1 else 2)\n",
    "                \n",
    "                # Sumar contribución a la integral\n",
    "                integral += wx * wy * wz * f(x,y,z)\n",
    "    \n",
    "    return integral"
   ]
  },
  {
   "cell_type": "markdown",
   "id": "c28fc71e-cf6f-4eb9-b2bb-8c518c63075a",
   "metadata": {},
   "source": [
    "## Ejemplo\n",
    "Calcular la masa total de una intrusión magmática con densidad variable."
   ]
  },
  {
   "cell_type": "code",
   "execution_count": 25,
   "id": "2d2eebb1-57ca-45ae-a2d5-1dbd5a104b1c",
   "metadata": {},
   "outputs": [
    {
     "name": "stdout",
     "output_type": "stream",
     "text": [
      "Masa total de la intrusión magmática: 5.99e+06 kg\n"
     ]
    }
   ],
   "source": [
    "def densidad_intrusion(x, y, z):\n",
    "    \"\"\"Modelo de densidad de una intrusión magmática lenticular\"\"\"\n",
    "    return 2800 + 100 * np.exp(-0.01*(x**2 + y**2 + 2*z**2))\n",
    "\n",
    "# Definimos los límites de integración para un elipsoide\n",
    "\n",
    "# Límites en y (función de x)\n",
    "def y_min(x):\n",
    "    return -sqrt(100 - x**2) if abs(x) <= 10 else 0\n",
    "\n",
    "def y_max(x):\n",
    "    return sqrt(100 - x**2) if abs(x) <= 10 else 0\n",
    "\n",
    "# Límites en z (función de x,y)\n",
    "def z_min(x, y):\n",
    "    r_xy = sqrt(x**2 + y**2)\n",
    "    return -0.5*sqrt(100 - r_xy**2) if r_xy <= 10 else 0\n",
    "\n",
    "def z_max(x, y):\n",
    "    r_xy = sqrt(x**2 + y**2)\n",
    "    return 0.5*sqrt(100 - r_xy**2) if r_xy <= 10 else 0\n",
    "\n",
    "# Calculamos la masa\n",
    "masa = simpson_3d(densidad_intrusion, -10, 10, y_min, y_max, z_min, z_max, n=50)\n",
    "print(f\"Masa total de la intrusión magmática: {masa:.2e} kg\")"
   ]
  },
  {
   "cell_type": "markdown",
   "id": "a19294b1-5cd9-4365-bf7b-ee167c163f96",
   "metadata": {},
   "source": [
    "## Ejemplo\n",
    "Calcular el flujo total de energía solar a través de una región de la magnetopausa."
   ]
  },
  {
   "cell_type": "code",
   "execution_count": 26,
   "id": "c080363c-c752-41cf-a2d5-1aa874d92aed",
   "metadata": {},
   "outputs": [
    {
     "name": "stdout",
     "output_type": "stream",
     "text": [
      "Flujo total de energía solar: 1.02e-06 W\n"
     ]
    }
   ],
   "source": [
    "def flujo_energia(x, y, z):\n",
    "    \"\"\"Modelo de flujo de energía solar en la magnetopausa\"\"\"\n",
    "    r = sqrt(x**2 + y**2 + z**2)\n",
    "    theta = np.arccos(z/r) if r > 0 else 0\n",
    "    phi = arctan2(y, x)\n",
    "    return 1e-9 * (1.5 + np.sin(2*theta) + 0.5*np.cos(phi)) / (r**2 if r > 0 else 1)\n",
    "\n",
    "# Definimos los límites para un sector esférico\n",
    "\n",
    "# Límites en y (función de x)\n",
    "def y_ms(x):\n",
    "    return sqrt(50**2 - x**2) if abs(x) <= 40 else sqrt(50**2 - 40**2)\n",
    "\n",
    "# Límites en z (función de x,y)\n",
    "def z_ms(x, y):\n",
    "    r_xy = sqrt(x**2 + y**2)\n",
    "    return sqrt(50**2 - r_xy**2) if r_xy <= 50 else 0\n",
    "\n",
    "# Calculamos el flujo total\n",
    "flujo_total = simpson_3d(flujo_energia, \n",
    "                        -40, 40, \n",
    "                        lambda x: -y_ms(x), y_ms, \n",
    "                        lambda x,y: -z_ms(x,y), z_ms, \n",
    "                        n=30)\n",
    "print(f\"Flujo total de energía solar: {flujo_total:.2e} W\")"
   ]
  },
  {
   "cell_type": "code",
   "execution_count": null,
   "id": "2cc7a6b9-186b-4645-85cc-c2cc34fc9559",
   "metadata": {},
   "outputs": [],
   "source": []
  },
  {
   "cell_type": "code",
   "execution_count": null,
   "id": "f52f2658-a51e-4392-b3a3-7396eabd2cce",
   "metadata": {},
   "outputs": [],
   "source": []
  }
 ],
 "metadata": {
  "kernelspec": {
   "display_name": "Python 3 (ipykernel)",
   "language": "python",
   "name": "python3"
  },
  "language_info": {
   "codemirror_mode": {
    "name": "ipython",
    "version": 3
   },
   "file_extension": ".py",
   "mimetype": "text/x-python",
   "name": "python",
   "nbconvert_exporter": "python",
   "pygments_lexer": "ipython3",
   "version": "3.11.6"
  }
 },
 "nbformat": 4,
 "nbformat_minor": 5
}
